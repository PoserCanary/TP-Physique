{
 "cells": [
  {
   "cell_type": "markdown",
   "metadata": {},
   "source": [
    "# Cahier de TP Antonin Riguet & Neil Perlerin"
   ]
  },
  {
   "cell_type": "markdown",
   "metadata": {},
   "source": [
    "# TP2 : Methodes de mesure de distances focales"
   ]
  },
  {
   "cell_type": "markdown",
   "metadata": {},
   "source": [
    "# 1 Focométrie des lentilles convergentes"
   ]
  },
  {
   "cell_type": "code",
   "execution_count": 37,
   "metadata": {},
   "outputs": [],
   "source": [
    "import numpy as np\n",
    "import matplotlib.pyplot as plt"
   ]
  },
  {
   "cell_type": "markdown",
   "metadata": {},
   "source": [
    "## 1.1 Méthode des points conjugués"
   ]
  },
  {
   "cell_type": "markdown",
   "metadata": {},
   "source": [
    "## Les lentilles\n",
    "\n",
    "### lentille convegante :\n",
    "    En regardant au traverson voit flou sauf quand l'objet est proche de la lentille : l'image est droite et agrendie (loupe)\n",
    "\n",
    "### lentille divergente :\n",
    "    On voit net et plus petit"
   ]
  },
  {
   "cell_type": "markdown",
   "metadata": {},
   "source": [
    "Protocole expérimental :\n",
    "\n",
    "- On pose sur la bande optique dans cet ordre : la source de lumière, l'objet, la lentille, l'écran\n",
    "- On ajuste les positions des trois derniers objets jusqu'à ce que l'image obtenue sur l'écran soit nette\n",
    "- On note les positions des trois objets et on utilise la loi de Newton pour déterminer la distance focale"
   ]
  },
  {
   "cell_type": "code",
   "execution_count": 38,
   "metadata": {},
   "outputs": [],
   "source": [
    "liste_des_mesures = [(61.7, 91, 152.1), (50, 74.3, 172.3), (72.7, 102.6, 158.9), (64, 139.4, 166.2), (79.8, 106.5, 177), (60, 96.7, 138.5)]\n",
    "liste_des_distances_focales = [19.80, 19.47, 19.53, 19.77, 19.37, 19.54]\n",
    "moyenne_distances_focales = sum(liste_des_distances_focales) / len(liste_des_distances_focales)"
   ]
  },
  {
   "cell_type": "code",
   "execution_count": 39,
   "metadata": {},
   "outputs": [
    {
     "name": "stdout",
     "output_type": "stream",
     "text": [
      "19.204681404421326\n"
     ]
    }
   ],
   "source": [
    "def getdistancefocale(A, O, Ap) :\n",
    "    OA = - abs(A - O)\n",
    "    OAp = abs(Ap - O)\n",
    "    return (OA * OAp) / (OA - OAp)\n",
    "\n",
    "print(getdistancefocale(58.8, 96, 135.7))"
   ]
  },
  {
   "cell_type": "code",
   "execution_count": 52,
   "metadata": {},
   "outputs": [
    {
     "name": "stdout",
     "output_type": "stream",
     "text": [
      "0.19134139700990563\n"
     ]
    }
   ],
   "source": [
    "valeur_constructeur = 20\n",
    "incertitude_constructeur = 0.1\n",
    "incertitude_f = np.std(liste_des_distances_focales, ddof = 1) / np.sqrt(len(liste_des_distances_focales))\n",
    "E = abs(moyenne_distances_focales - valeur_constructeur) / np.sqrt(incertitude_f ** 2 + (incertitude_constructeur * valeur_constructeur) ** 2)\n",
    "\n",
    "print(E)"
   ]
  },
  {
   "cell_type": "markdown",
   "metadata": {},
   "source": [
    "E<2 donc le protocole expérimental est réussi et la valeur trouvée est bonne."
   ]
  },
  {
   "cell_type": "markdown",
   "metadata": {},
   "source": [
    "## 1.2 Méthode de Bessel"
   ]
  },
  {
   "cell_type": "markdown",
   "metadata": {},
   "source": [
    "Protocol expérimental :\n",
    "\n",
    "- On pose sur la bande optique dans cet ordre : la source de lumière, l'objet, la lentille, l'écran\n",
    "- On ajuste les positions des trois derniers objets jusqu'à ce que l'image obtenue sur l'écran soit nette et que la lentille soit plus proche de l'image que de l'écran\n",
    "- On note les positions de l'image, de l'écran et de la lentille\n",
    "- On ajuste la lentille jusqu'à ce que l'image soit nette, mais que cette fois-ci la lentille soit plus proche de l'écran que de l'image\n",
    "- On note la nouvelle position de la lentille\n",
    "- On utilise la formule de la méthode de Bessel pour calculer la distance focale"
   ]
  },
  {
   "cell_type": "code",
   "execution_count": 53,
   "metadata": {},
   "outputs": [],
   "source": [
    "liste_des_mesures = [(50, 76.6, 122.8, 150), (55, 83.6, 111.7, 145), (49, 76.5, 114.8, 143), (60, 87.3, 132.9, 160), (42, 66.8, 129.2, 155), (70, 96.5, 141.5, 169)]\n",
    "liste_des_distances_focales = [19.67, 20.31, 19.60, 19.80, 19.64, 19.64]"
   ]
  },
  {
   "cell_type": "code",
   "execution_count": 54,
   "metadata": {},
   "outputs": [
    {
     "name": "stdout",
     "output_type": "stream",
     "text": [
      "19.636363636363637\n"
     ]
    }
   ],
   "source": [
    "def methode_de_bessel(A, O1, O2, Ap):\n",
    "    D = Ap - A\n",
    "    d = O2 - O1\n",
    "    return ((D ** 2) - (d ** 2)) / (4 * D)\n",
    "\n",
    "print(methode_de_bessel(70, 96.5, 141.5, 169))"
   ]
  },
  {
   "cell_type": "code",
   "execution_count": 55,
   "metadata": {},
   "outputs": [
    {
     "name": "stdout",
     "output_type": "stream",
     "text": [
      "0.19137588989737744\n"
     ]
    }
   ],
   "source": [
    "valeur_constructeur = 20\n",
    "incertitude_constructeur = 0.1\n",
    "incertitude_f = np.std(liste_des_distances_focales, ddof = 1) / np.sqrt(len(liste_des_distances_focales))\n",
    "E = abs(moyenne_distances_focales - valeur_constructeur) / np.sqrt((incertitude_f ** 2) + ((incertitude_constructeur * valeur_constructeur) ** 2))\n",
    "\n",
    "print(E)"
   ]
  },
  {
   "cell_type": "markdown",
   "metadata": {},
   "source": [
    "E<2 donc la méthode de Bessel marche et la valeur trouvée est bonne."
   ]
  },
  {
   "cell_type": "markdown",
   "metadata": {},
   "source": [
    "## 1.4 Méthode par autocollimation"
   ]
  },
  {
   "cell_type": "markdown",
   "metadata": {},
   "source": [
    "Protocol expérimental :\n",
    "\n",
    "- On pose sur la bande optique dans cet ordre : la source de lumière, l'objet, la lentille, le miroir avec la distance miroir lentille plus élevée que la distance focale\n",
    "- On ajuste la lentille jusqu'à ce qu'une image nette se forme sur l'objet\n",
    "- On note la différence entre la position de la lentille et celle de l'objet, ce qui nous donne la distance focale"
   ]
  },
  {
   "cell_type": "code",
   "execution_count": 56,
   "metadata": {},
   "outputs": [],
   "source": [
    "liste_des_mesures = [(60, 80), (49, 68.7), (60.1, 79.3), (55.2, 75.1), (45, 64.4), (39.8, 59.6), (45.3, 64.9)]\n",
    "liste_des_distances_focales = [20, 19.7, 19.2, 19.4, 19.8, 19.6]\n",
    "moyenne_distances_focales = sum(liste_des_distances_focales) / len(liste_des_distances_focales)"
   ]
  },
  {
   "cell_type": "code",
   "execution_count": 57,
   "metadata": {},
   "outputs": [
    {
     "name": "stdout",
     "output_type": "stream",
     "text": [
      "19.60000000000001\n"
     ]
    }
   ],
   "source": [
    "def methode_de_lautocolimation(A, O) :\n",
    "    return O - A\n",
    "\n",
    "print(methode_de_lautocolimation(45.3, 64.9))"
   ]
  },
  {
   "cell_type": "code",
   "execution_count": 58,
   "metadata": {},
   "outputs": [
    {
     "name": "stdout",
     "output_type": "stream",
     "text": [
      "0.19134139700990563\n"
     ]
    }
   ],
   "source": [
    "valeur_constructeur = 20\n",
    "incertitude_constructeur = 0.1\n",
    "incertitude_f = np.std(liste_des_distances_focales, ddof = 1) / np.sqrt(len(liste_des_distances_focales))\n",
    "E = abs(moyenne_distances_focales - valeur_constructeur) / np.sqrt((incertitude_f ** 2) + ((incertitude_constructeur * valeur_constructeur) ** 2))\n",
    "\n",
    "print(E)"
   ]
  },
  {
   "cell_type": "markdown",
   "metadata": {},
   "source": [
    "E<2 donc la méthode de l'autocolimation marche (et est très pratique !)"
   ]
  }
 ],
 "metadata": {
  "kernelspec": {
   "display_name": "Python 3",
   "language": "python",
   "name": "python3"
  },
  "language_info": {
   "codemirror_mode": {
    "name": "ipython",
    "version": 3
   },
   "file_extension": ".py",
   "mimetype": "text/x-python",
   "name": "python",
   "nbconvert_exporter": "python",
   "pygments_lexer": "ipython3",
   "version": "3.10.11"
  }
 },
 "nbformat": 4,
 "nbformat_minor": 4
}
