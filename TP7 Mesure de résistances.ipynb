{
 "cells": [
  {
   "cell_type": "markdown",
   "metadata": {},
   "source": [
    "# Cahier de TP Antonin Riguet & Neil Perlerin\n",
    "---\n",
    "# TP7 Mesure de résistances"
   ]
  },
  {
   "cell_type": "code",
   "execution_count": 29,
   "metadata": {},
   "outputs": [],
   "source": [
    "import math\n",
    "import numpy as np"
   ]
  },
  {
   "cell_type": "markdown",
   "metadata": {},
   "source": [
    "### 1. Utilisation d'un ohmmètre"
   ]
  },
  {
   "cell_type": "markdown",
   "metadata": {},
   "source": [
    "On branche les câbles rouges et noirs entre les bornes \"COM\" et \"V\" du multimètre et les bornes de la résistance. Les valeurs mesurées s'affichent sur l'écran."
   ]
  },
  {
   "cell_type": "code",
   "execution_count": 30,
   "metadata": {},
   "outputs": [
    {
     "name": "stdout",
     "output_type": "stream",
     "text": [
      "Les valeurs mesurées pour les résistances sont : \n",
      "R1 : 9.792 ± 1.742 MΩ \n",
      "R2 : 0.9969 ± 0.001 kΩ \n",
      "R3 : 10.06 ± 0.052 Ω\n",
      "\n",
      "Les différents E pour les résistances sont : \n",
      "E1 : 0.1194 \n",
      "E2 : 3.5848 \n",
      "E3 : 1.1539\n"
     ]
    }
   ],
   "source": [
    "valeur_res1 = 9.792 #MΩ\n",
    "valeur_res2 = 0.9969 #kΩ\n",
    "valeur_res3 = 10.06 #Ω\n",
    "\n",
    "delta1 = 0.3 * valeur_res1 + 80 * 0.001\n",
    "delta2 = 0.0007 * valeur_res2 + 8 * 0.0001\n",
    "delta3 = 0.001 * valeur_res3 + 8 * 0.01\n",
    "\n",
    "incertitude_1 = delta1 / math.sqrt(3)\n",
    "incertitude_2 = delta2 / math.sqrt(3)\n",
    "incertitude_3 = delta3 / math.sqrt(3)\n",
    "\n",
    "e1 = abs(valeur_res1 - 10) / incertitude_1\n",
    "e2 = abs(valeur_res2 - 1) / incertitude_2\n",
    "e3 = abs(valeur_res3 - 10) / incertitude_3\n",
    "\n",
    "print(f\"Les valeurs mesurées pour les résistances sont : \\nR1 : {valeur_res1} ± {round(incertitude_1, 3)} MΩ \\nR2 : {valeur_res2} ± {round(incertitude_2, 3)} kΩ \\nR3 : {valeur_res3} ± {round(incertitude_3, 3)} Ω\\n\")\n",
    "print(f\"Les différents E pour les résistances sont : \\nE1 : {round(e1, 4)} \\nE2 : {round(e2, 4)} \\nE3 : {round(e3, 4)}\")"
   ]
  },
  {
   "cell_type": "markdown",
   "metadata": {},
   "source": [
    "### 2. Méthode par courte dérivation"
   ]
  },
  {
   "cell_type": "markdown",
   "metadata": {},
   "source": [
    "On utilise un ampermètre et un voltmètre branchés en série et en dérivation respectivement pour avoir une idée de la tension et du courant dans le circuit avec un générateur de tension idéale, puis on utilise le rapport entre les deux valeurs mesurées pour trouver une approximation de la valeur de la résistance."
   ]
  },
  {
   "cell_type": "code",
   "execution_count": 31,
   "metadata": {},
   "outputs": [
    {
     "name": "stdout",
     "output_type": "stream",
     "text": [
      "Rexp = 9.959 ± 0.172\n",
      "E = 0.24 < 2 donc le protocole fonctionne\n"
     ]
    }
   ],
   "source": [
    "#Résistance de 10Ω\n",
    "\n",
    "Ur = 321.65 #mV\n",
    "i = 32.292 #mA\n",
    "\n",
    "delta_Ur = 0.05 / 100 * Ur + 8 * 0.1\n",
    "delta_i = 0.08 / 100 * i + 8 * 0.01\n",
    "\n",
    "incertitude_Ur = delta_Ur / math.sqrt(3)\n",
    "incertitude_i = delta_i / math.sqrt(3)\n",
    "\n",
    "def calculer_rexp(Ur, i) :\n",
    "    return Ur / i\n",
    "\n",
    "Rexp = calculer_rexp(Ur + incertitude_Ur, i + incertitude_i)\n",
    "incertitude_rexp = Rexp * math.sqrt((incertitude_i / i) ** 2 + (incertitude_Ur / i) ** 2)\n",
    "\n",
    "e = abs(Rexp - 10) / incertitude_rexp\n",
    "\n",
    "print(f\"Rexp = {round(Rexp, 3)} ± {round(incertitude_rexp, 3)}\")\n",
    "print(f\"E = {round(e, 2)} < 2 donc le protocole fonctionne\")"
   ]
  },
  {
   "cell_type": "code",
   "execution_count": 32,
   "metadata": {},
   "outputs": [
    {
     "name": "stdout",
     "output_type": "stream",
     "text": [
      "Rexp = 4.292 ± 0.978\n",
      "E = 5.8353862 < 2 donc le protocole ne semble pas fonctionner ici\n",
      "Ici, la résistance interne du voltmètre est la même que celle de la résistance mesurée, ce qui risque de fortement fausser les calculs\n"
     ]
    }
   ],
   "source": [
    "#Résistance de 10 MΩ\n",
    "\n",
    "Ur = 2.0022 * 10 ** - 6 #MV\n",
    "i = 0.38 * 10 ** - 6 #A\n",
    "\n",
    "delta_Ur = 0.03 / 100 * Ur + 8 * 0.0001\n",
    "delta_i = 0.1 / 100 * i + 15 * 0.01\n",
    "\n",
    "incertitude_Ur = delta_Ur / math.sqrt(3) * 10 ** - 6\n",
    "incertitude_i = delta_i / math.sqrt(3) * 10 ** - 6\n",
    "\n",
    "def calculer_rexp(Ur, i) :\n",
    "    return Ur / i\n",
    "\n",
    "Rexp = calculer_rexp(Ur + incertitude_Ur, i + incertitude_i) #MΩ\n",
    "incertitude_rexp = Rexp * math.sqrt((incertitude_i / i) ** 2 + (incertitude_Ur / i) ** 2)\n",
    "\n",
    "e = abs(Rexp - 10) / incertitude_rexp\n",
    "\n",
    "print(f\"Rexp = {round(Rexp, 3)} ± {round(incertitude_rexp, 3)}\")\n",
    "print(f\"E = {round(e, 8)} < 2 donc le protocole ne semble pas fonctionner ici\")\n",
    "print(\"Ici, la résistance interne du voltmètre est la même que celle de la résistance mesurée, ce qui risque de fortement fausser les calculs\")"
   ]
  },
  {
   "cell_type": "markdown",
   "metadata": {},
   "source": [
    "Un montage courte dérivation ne permet de mesurer que des résistances si celles-ci sont très petites devant celle du voltmètre (ici 10 MΩ)"
   ]
  },
  {
   "cell_type": "code",
   "execution_count": 33,
   "metadata": {},
   "outputs": [
    {
     "name": "stdout",
     "output_type": "stream",
     "text": [
      "Rexp = 0.995 ± 0.001\n",
      "E = 6.52486098 < 2 donc le protocole ne semble pas fonctionner ici\n",
      "Remarque : l'erreur semble venir dans le calcul de l'incertitude, puisque la valeur de Rexp est assez proche\n"
     ]
    }
   ],
   "source": [
    "#Résistance de 1 kΩ\n",
    "\n",
    "Ur = 1.8740 #V\n",
    "i = 1.8835 #mA\n",
    "\n",
    "delta_Ur = 0.03 / 100 * Ur + 8 * 0.0001\n",
    "delta_i = 0.08 / 100 * i + 8 * 0.0001\n",
    "\n",
    "incertitude_Ur = delta_Ur / math.sqrt(3)\n",
    "incertitude_i = delta_i / math.sqrt(3)\n",
    "\n",
    "def calculer_rexp(Ur, i) :\n",
    "    return Ur / i\n",
    "\n",
    "Rexp = calculer_rexp(Ur, i) #kΩ\n",
    "incertitude_rexp = Rexp * math.sqrt((incertitude_i / i) ** 2 + (incertitude_Ur / i) ** 2)\n",
    "\n",
    "e = abs(Rexp - 1) / incertitude_rexp\n",
    "\n",
    "print(f\"Rexp = {round(Rexp, 3)} ± {round(incertitude_rexp, 3)}\")\n",
    "print(f\"E = {round(e, 8)} < 2 donc le protocole ne semble pas fonctionner ici\")\n",
    "print(\"Remarque : l'erreur semble venir dans le calcul de l'incertitude, puisque la valeur de Rexp est assez proche\")"
   ]
  },
  {
   "cell_type": "markdown",
   "metadata": {},
   "source": [
    "Dans la majorité des cas rencontrés, on a $R << R_{volt}$ et le courant dans la branche du voltmètre peut être considéré comme nul. "
   ]
  },
  {
   "cell_type": "markdown",
   "metadata": {},
   "source": [
    "### 3. Montage longue dérivation "
   ]
  },
  {
   "cell_type": "code",
   "execution_count": 34,
   "metadata": {},
   "outputs": [
    {
     "name": "stdout",
     "output_type": "stream",
     "text": [
      "Rexp = 16.994 ± 0.348\n",
      "E = 20.12 donc il semble que ce protocole ne fonctionne pas pour des résistances à valeurs aussi petites\n"
     ]
    }
   ],
   "source": [
    "#Résistance de 10Ω\n",
    "\n",
    "Ur = 505.0 #mV\n",
    "i = 29.717 #mA\n",
    "\n",
    "delta_Ur = 0.05 / 100 * Ur + 8 * 0.1\n",
    "delta_i = 0.08 / 100 * i + 8 * 0.001\n",
    "\n",
    "incertitude_Ur = delta_Ur / math.sqrt(3)\n",
    "incertitude_i = delta_i / math.sqrt(3)\n",
    "\n",
    "def calculer_rexp(Ur, i) :\n",
    "    return Ur / i\n",
    "\n",
    "Rexp = calculer_rexp(Ur, i) #Ω\n",
    "incertitude_rexp = Rexp * math.sqrt((incertitude_i / i) ** 2 + (incertitude_Ur / i) ** 2)\n",
    "\n",
    "e = abs(Rexp - 10) / incertitude_rexp\n",
    "\n",
    "print(f\"Rexp = {round(Rexp, 3)} ± {round(incertitude_rexp, 3)}\")\n",
    "print(f\"E = {round(e, 2)} donc il semble que ce protocole ne fonctionne pas pour des résistances à valeurs aussi petites\")"
   ]
  },
  {
   "cell_type": "markdown",
   "metadata": {},
   "source": [
    "L'écart normalizé est grand à cause de la valeur de la résistance interne de l'ampermètre qui est du même ordre que celle de la résistance."
   ]
  },
  {
   "cell_type": "code",
   "execution_count": 35,
   "metadata": {},
   "outputs": [
    {
     "name": "stdout",
     "output_type": "stream",
     "text": [
      "Rexp = 10.0 ± 4.337\n",
      "E = 0.0 < 2 donc le protocole fonctionne parfaitement ici (même si l'incertitude est un peu haute)\n"
     ]
    }
   ],
   "source": [
    "#Résistance de 10 MΩ\n",
    "\n",
    "Ur = 2.000 #V\n",
    "i = 0.20 * 10 ** -6 #A\n",
    "\n",
    "delta_Ur = 0.03 / 100 * Ur + 8 * 0.001\n",
    "delta_i = 0.1 / 100 * i + 15 * 0.01\n",
    "\n",
    "incertitude_Ur = delta_Ur / math.sqrt(3) * 10 ** - 6\n",
    "incertitude_i = delta_i / math.sqrt(3) * 10 ** - 6\n",
    "\n",
    "def calculer_rexp(Ur, i) :\n",
    "    return Ur / i\n",
    "\n",
    "Rexp = calculer_rexp(Ur, i) * 10 ** -6 #MΩ\n",
    "incertitude_rexp = Rexp * math.sqrt((incertitude_i / i) ** 2 + (incertitude_Ur / i) ** 2)\n",
    "\n",
    "e = abs(Rexp - 10) / incertitude_rexp\n",
    "\n",
    "print(f\"Rexp = {round(Rexp, 3)} ± {round(incertitude_rexp, 3)}\")\n",
    "print(f\"E = {round(e, 8)} < 2 donc le protocole fonctionne parfaitement ici (même si l'incertitude est un peu haute)\")"
   ]
  },
  {
   "cell_type": "markdown",
   "metadata": {},
   "source": [
    "Ce protocole fonctionne donc bien quand $R_{Amp} << R$ (la résistance interne à l'ampermètre)"
   ]
  },
  {
   "cell_type": "markdown",
   "metadata": {},
   "source": [
    "### 5. Mesure de la résistance interne d'un générateur"
   ]
  },
  {
   "cell_type": "markdown",
   "metadata": {},
   "source": [
    "On commence par mesure la tension E du générateur en lui branchant un voltmètre en série, à lui et à sa résistance interne. Cette mesure est précise car l'instensité dans une branche contenant un voltmètre est toujours à peu près nulle, ce qui rend la résistance interne négligeable."
   ]
  },
  {
   "cell_type": "code",
   "execution_count": 37,
   "metadata": {},
   "outputs": [
    {
     "name": "stdout",
     "output_type": "stream",
     "text": [
      "E = 0.0 < 2 donc tout va pour le mieux dans le meilleur des mondes\n"
     ]
    }
   ],
   "source": [
    "E = 2.0027 #V\n",
    "U2 = 1.0001 #V\n",
    "R2 = 50 #Ω\n",
    "\n",
    "incertitude_R2 = 0.5 / math.sqrt(3) #Ω\n",
    " \n",
    "E = abs(R2 - 50) / incertitude_R2\n",
    "print(f\"E = {E} < 2 donc tout va pour le mieux dans le meilleur des mondes\")"
   ]
  },
  {
   "cell_type": "markdown",
   "metadata": {},
   "source": [
    "### ?. Mesure d'une résistance inconnue"
   ]
  },
  {
   "cell_type": "code",
   "execution_count": 53,
   "metadata": {},
   "outputs": [
    {
     "name": "stdout",
     "output_type": "stream",
     "text": [
      "Résistance inconnue = 0.995 ± 0.003 Ω\n"
     ]
    }
   ],
   "source": [
    "#Résistance Inconnue\n",
    "\n",
    "Ur = 1.8740 #V\n",
    "i = 1.8835 #mA\n",
    "\n",
    "delta_Ur = 0.03 / 100 * Ur + 8 * 0.001\n",
    "delta_i = 0.08 / 100 * i + 8 * 0.0001\n",
    "\n",
    "incertitude_Ur = delta_Ur / math.sqrt(3)\n",
    "incertitude_i = delta_i / math.sqrt(3)\n",
    "\n",
    "def calculer_rexp(Ur, i) :\n",
    "    return Ur / i\n",
    "\n",
    "Rexp = calculer_rexp(Ur, i) #kΩ\n",
    "incertitude_rexp = Rexp * math.sqrt((incertitude_i / i) ** 2 + (incertitude_Ur / i) ** 2)\n",
    "\n",
    "print(f\"Résistance inconnue = {round(Rexp, 3)} ± {round(incertitude_rexp, 3)} kΩ\")"
   ]
  }
 ],
 "metadata": {
  "kernelspec": {
   "display_name": "Python 3",
   "language": "python",
   "name": "python3"
  },
  "language_info": {
   "codemirror_mode": {
    "name": "ipython",
    "version": 3
   },
   "file_extension": ".py",
   "mimetype": "text/x-python",
   "name": "python",
   "nbconvert_exporter": "python",
   "pygments_lexer": "ipython3",
   "version": "3.10.11"
  }
 },
 "nbformat": 4,
 "nbformat_minor": 2
}
