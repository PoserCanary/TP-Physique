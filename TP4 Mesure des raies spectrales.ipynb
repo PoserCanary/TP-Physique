{
 "cells": [
  {
   "cell_type": "markdown",
   "metadata": {},
   "source": [
    "# Cahier de TP Antonin Riguet & Neil Perlerin\n",
    "---\n",
    "# TP4 Mesure des raies spectrales"
   ]
  },
  {
   "cell_type": "code",
   "execution_count": 1,
   "metadata": {},
   "outputs": [],
   "source": [
    "import math\n",
    "import numpy as np"
   ]
  },
  {
   "cell_type": "markdown",
   "metadata": {},
   "source": [
    "### 1. Mesure des longueurs d'onde du doublet jaune du mercure"
   ]
  },
  {
   "cell_type": "markdown",
   "metadata": {},
   "source": [
    "Protocol expérimental : \n",
    "\n",
    "- On positionne une barre jaune dans la lunette, puis on fait tourner le plateau jusqu'à ce que la barre arrête de bouger\n",
    "- On note la valeur d'angle affichée en regardant dans la lunette du bas\n",
    "- On répète la mesure pour la barre jaune observée en plaçant la lunette de l'autre côté\n",
    "- On rentre les deux valeurs dans le programme pour calculer lambda (en nanomètres)"
   ]
  },
  {
   "cell_type": "markdown",
   "metadata": {},
   "source": [
    "<img src=Images/Image5.jpg alt=\"Schéma de l'Image 5\" width=50%/>"
   ]
  },
  {
   "cell_type": "markdown",
   "metadata": {},
   "source": [
    "$Dm = |\\theta' - \\theta| \\\\ \\lambda = 2a\\sin(\\frac{Dm}{2})$"
   ]
  },
  {
   "cell_type": "code",
   "execution_count": 51,
   "metadata": {},
   "outputs": [],
   "source": [
    "valeurs_angles_mesurés = [(176 + 48/60, 183 + 26/60), (176 + 49/60, 183 + 26/60), (176 + 49/60, 183 + 25/60), \n",
    "                          (176 + 48/60, 183 + 26/60), (176 + 48/60, 183 + 25/60)]\n",
    "valeurs_de_lambda = [578.79, 577.33, 575.88, 578.78, 577.33]\n",
    "moyenne_lambdas = sum(valeurs_de_lambda) / len(valeurs_de_lambda)"
   ]
  },
  {
   "cell_type": "code",
   "execution_count": 52,
   "metadata": {},
   "outputs": [
    {
     "name": "stdout",
     "output_type": "stream",
     "text": [
      "578.7867172355715\n"
     ]
    }
   ],
   "source": [
    "a = 10000 # a en nm\n",
    "\n",
    "def calculer_lambda(angle1, angle2) : # Angles en degrés\n",
    "    Dm = abs(angle1 - angle2) * (math.pi / 180) / 2\n",
    "    return 2 * a * math.sin(Dm / 2)\n",
    "\n",
    "print(calculer_lambda(176 + 48/60, 183 + 26/60))"
   ]
  },
  {
   "cell_type": "code",
   "execution_count": 57,
   "metadata": {},
   "outputs": [],
   "source": [
    "valeur_constructeur = 578.05\n",
    "incertitude_constructeur = 0\n",
    "incertitude_valeurs = np.std(valeurs_de_lambda, ddof = 1) / np.sqrt(len(valeurs_de_lambda))\n",
    "e = abs(moyenne_lambdas - valeur_constructeur) / np.sqrt((incertitude_valeurs ** 2) + ((incertitude_constructeur * valeur_constructeur) ** 2))"
   ]
  },
  {
   "cell_type": "code",
   "execution_count": 60,
   "metadata": {},
   "outputs": [
    {
     "name": "stdout",
     "output_type": "stream",
     "text": [
      "La valeur trouvée de lamda est : 577.622.\n",
      "E = 0.787 << 2 donc la valeur trouvée est bonne et le protocol marche\n"
     ]
    }
   ],
   "source": [
    "print(f\"La valeur trouvée de lamda est : {moyenne_lambdas}.\")\n",
    "print(f\"E = {round(e,3)} < 2 donc la valeur trouvée est bonne et le protocol marche\")"
   ]
  }
 ],
 "metadata": {
  "kernelspec": {
   "display_name": "Python 3",
   "language": "python",
   "name": "python3"
  },
  "language_info": {
   "codemirror_mode": {
    "name": "ipython",
    "version": 3
   },
   "file_extension": ".py",
   "mimetype": "text/x-python",
   "name": "python",
   "nbconvert_exporter": "python",
   "pygments_lexer": "ipython3",
   "version": "3.11.0"
  }
 },
 "nbformat": 4,
 "nbformat_minor": 2
}
