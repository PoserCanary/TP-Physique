{
 "cells": [
  {
   "cell_type": "markdown",
   "metadata": {},
   "source": [
    "# Cahier de TP Antonin Riguet & Neil Perlerin\n",
    "---\n",
    "# TP9 Circuit RLC série"
   ]
  },
  {
   "cell_type": "code",
   "execution_count": 76,
   "metadata": {},
   "outputs": [],
   "source": [
    "from math import *\n",
    "import numpy as np"
   ]
  },
  {
   "cell_type": "markdown",
   "metadata": {},
   "source": [
    "### 1. Choix des composants du circuit RLC"
   ]
  },
  {
   "cell_type": "code",
   "execution_count": 77,
   "metadata": {},
   "outputs": [
    {
     "name": "stdout",
     "output_type": "stream",
     "text": [
      "C = 21.71 nF\n"
     ]
    }
   ],
   "source": [
    "PI = 3.14159265\n",
    "L = 2.2 * (10 ** 8)\n",
    "C = (math.sqrt(L) / 20000 * 2 * PI) ** 2\n",
    "\n",
    "print(f\"C = {round(C, 2)} nF\")"
   ]
  },
  {
   "cell_type": "markdown",
   "metadata": {},
   "source": [
    "### 2. Mesure des résistances internes"
   ]
  },
  {
   "cell_type": "code",
   "execution_count": 78,
   "metadata": {},
   "outputs": [
    {
     "name": "stdout",
     "output_type": "stream",
     "text": [
      "rL = 0.84 ± 0.05\n"
     ]
    }
   ],
   "source": [
    "rL = 0.84 #Ω\n",
    "incertitude_rL = 0.1 / 100 * rL + 8 * 0.01 / math.sqrt(3)\n",
    "\n",
    "print(f\"rL = {round(rL, 2)} ± {round(incertitude_rL, 2)}\")"
   ]
  },
  {
   "cell_type": "markdown",
   "metadata": {},
   "source": [
    "### 3. Étude du circuit RLC en régime libre"
   ]
  },
  {
   "cell_type": "code",
   "execution_count": 98,
   "metadata": {},
   "outputs": [],
   "source": [
    "τ_theoriques = [439.88, 329.85, 212.8, 109.5, 19.52]\n",
    "τ_mesurés = [434.80, 320.80, 219.78, 108.8, 25.8]\n",
    "incertitude_τ = [10, 10, 8, 4, 4]\n",
    "valeurs_r = [20000, 15000, 10000, 5000, 1000]"
   ]
  },
  {
   "cell_type": "code",
   "execution_count": 107,
   "metadata": {},
   "outputs": [
    {
     "name": "stdout",
     "output_type": "stream",
     "text": [
      "329.85326809017187\n"
     ]
    }
   ],
   "source": [
    "C = 22e-9 #F\n",
    "L = 2.2e-3 #H\n",
    "\n",
    "Rtot = 15000 #Ω\n",
    "w0 = 1 / sqrt(L * C)\n",
    "Q = 1 / Rtot * sqrt(L / C)\n",
    "\n",
    "τ_théorique = 1 / ((w0 / (2 * Q)) - w0 * sqrt((1 / (4 * Q ** 2)) - 1)) * 1e6 #microS\n",
    "print(τ_théorique)"
   ]
  },
  {
   "cell_type": "code",
   "execution_count": 108,
   "metadata": {},
   "outputs": [
    {
     "name": "stdout",
     "output_type": "stream",
     "text": [
      "E = 0.51 pour R = 20000\n",
      "E = 0.91 pour R = 15000\n",
      "E = 0.87 pour R = 10000\n",
      "E = 0.18 pour R = 5000\n",
      "E = 1.57 pour R = 1000\n"
     ]
    }
   ],
   "source": [
    "E = []\n",
    "for i in range(len(τ_theoriques)) :\n",
    "    E.append(abs(τ_theoriques[i] - τ_mesurés[i]) / incertitude_τ[i])\n",
    "\n",
    "for i in range(len(E)) : \n",
    "    print(f\"E = {round(E[i], 2)} pour R = {valeurs_r[i]}\")"
   ]
  },
  {
   "cell_type": "markdown",
   "metadata": {},
   "source": [
    "Le protocole semble fonctionner mais perd en précision plus la résistance est basse."
   ]
  }
 ],
 "metadata": {
  "kernelspec": {
   "display_name": "Python 3",
   "language": "python",
   "name": "python3"
  },
  "language_info": {
   "codemirror_mode": {
    "name": "ipython",
    "version": 3
   },
   "file_extension": ".py",
   "mimetype": "text/x-python",
   "name": "python",
   "nbconvert_exporter": "python",
   "pygments_lexer": "ipython3",
   "version": "3.10.11"
  }
 },
 "nbformat": 4,
 "nbformat_minor": 2
}
