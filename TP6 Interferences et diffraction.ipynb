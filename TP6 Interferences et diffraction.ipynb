{
 "cells": [
  {
   "cell_type": "markdown",
   "metadata": {},
   "source": [
    "# Cahier de TP Antonin Riguet & Neil Perlerin\n",
    "---\n",
    "# TP6 Interférences et diffraction"
   ]
  },
  {
   "cell_type": "code",
   "execution_count": 2,
   "metadata": {},
   "outputs": [],
   "source": [
    "import math\n",
    "import numpy as np"
   ]
  },
  {
   "cell_type": "markdown",
   "metadata": {},
   "source": [
    "### 1. Mesure de la célérité du son - Trous d'Young"
   ]
  },
  {
   "cell_type": "markdown",
   "metadata": {},
   "source": [
    "On utilise la formule des trous d'Young qui fait le lien entre les mesures d'un schéma des trous d'Young et la longueur d'onde de l'onde, ainsi que la formule qui relie la longueur d'onde à la célérité pour calculer une valeur approximative de la vitesse du son.\n",
    "\n",
    "$\\lambda = \\frac{ia}{D} \\\\ c = \\lambda f = f\\frac{ia}{D}$"
   ]
  },
  {
   "cell_type": "markdown",
   "metadata": {},
   "source": [
    "# SCHEMA DES TROUS D'YOUNG ICI"
   ]
  },
  {
   "cell_type": "code",
   "execution_count": 39,
   "metadata": {},
   "outputs": [],
   "source": [
    "temperature = 23.4 + 273.15\n",
    "gaz = 8.314\n",
    "masse_air = 29 * 1/1000\n",
    "\n",
    "CELERITE_SON = math.sqrt(1.4 * temperature * gaz / masse_air) # Modèle de Laplace"
   ]
  },
  {
   "cell_type": "code",
   "execution_count": 40,
   "metadata": {},
   "outputs": [
    {
     "name": "stdout",
     "output_type": "stream",
     "text": [
      "La célérité du son est de 330.0 ± 17.431 m/s\n",
      "E = 0.86 < 2 donc le protocol est bon\n"
     ]
    }
   ],
   "source": [
    "i = 0.033 # Metres\n",
    "d = 0.40 # Metres\n",
    "a = 0.10 # Metres\n",
    "f = 40000 # Hertz\n",
    "\n",
    "precision_mesures_distance = 0.001 / math.sqrt(3)\n",
    "precision_i = 0.003 / math.sqrt(3)\n",
    "\n",
    "def calcul_celerite(i, d, a, f) :\n",
    "    return f * i * a / d\n",
    "\n",
    "c = calcul_celerite(i, d, a, f)\n",
    "incertitude_c = c * math.sqrt((precision_i / i) ** 2 + (precision_mesures_distance / a) ** 2 + (precision_mesures_distance / d) ** 2)\n",
    "\n",
    "print(f\"La célérité du son est de {c} ± {round(incertitude_c, 3)} m/s\")\n",
    "\n",
    "e = abs(c - CELERITE_SON) / incertitude_c\n",
    "print(f\"E = {round(e, 2)} < 2 donc le protocol est bon\")"
   ]
  },
  {
   "cell_type": "markdown",
   "metadata": {},
   "source": [
    "### 2. Mesure des cheveux avec le phénomène de diffraction"
   ]
  },
  {
   "cell_type": "code",
   "execution_count": 44,
   "metadata": {},
   "outputs": [
    {
     "name": "stdout",
     "output_type": "stream",
     "text": [
      "a = 63.264865 ± 1.97465687 nm\n",
      "E = 1.65 < 2 donc le protocol est bon\n"
     ]
    }
   ],
   "source": [
    "l = 532 * (10 ** -7) #cm\n",
    "D = 110 #cm\n",
    "la = 1.85 #cm\n",
    "\n",
    "incertitude_D = 0.1 / math.sqrt(3) #cm\n",
    "incertitude_la = 0.1 / math.sqrt(3) #cm\n",
    "\n",
    "def calculer_taille_fente(l, D, la):\n",
    "    return 2 * l * D / la\n",
    "\n",
    "a = calculer_taille_fente(l, D, la)\n",
    "incertitude_a = a * math.sqrt((incertitude_D / D) ** 2 + (incertitude_la / la) ** 2)\n",
    "\n",
    "a *= (10 ** 4) #cm -> microm\n",
    "incertitude_a *= (10 ** 4) #cm -> microm\n",
    "print(f\"a = {round(a, 6)} ± {round(incertitude_a, 8)} nm\")\n",
    "\n",
    "e = abs(a - 60) / incertitude_a\n",
    "print(f\"E = {round(e, 2)} < 2 donc le protocol est bon\")"
   ]
  },
  {
   "cell_type": "markdown",
   "metadata": {},
   "source": [
    "En utilisant le fait que le phénomène de diffraction produit les mêmes taches pour un fil et une fente de même taille, on peut utiliser la formule déterminée précedemment pour approximer la taille des cheveux des scientifiques :"
   ]
  },
  {
   "cell_type": "code",
   "execution_count": 54,
   "metadata": {},
   "outputs": [
    {
     "name": "stdout",
     "output_type": "stream",
     "text": [
      "La taille des cheveux de Neil est de 79.3 micromètres\n",
      "La taille des cheveux de Antonin est de 97.5 micromètres\n"
     ]
    }
   ],
   "source": [
    "taille_cheveux_neil = calculer_taille_fente(l, D, 1.475) * (10 ** 4)\n",
    "print(f\"La taille des cheveux de Neil est de {round(taille_cheveux_neil, 1)} micromètres\")\n",
    "\n",
    "taille_cheveux_antonin = calculer_taille_fente(l, D, 1.2) * (10 ** 4)\n",
    "print(f\"La taille des cheveux de Antonin est de {round(taille_cheveux_antonin, 1)} micromètres\")"
   ]
  }
 ],
 "metadata": {
  "kernelspec": {
   "display_name": "Python 3",
   "language": "python",
   "name": "python3"
  },
  "language_info": {
   "codemirror_mode": {
    "name": "ipython",
    "version": 3
   },
   "file_extension": ".py",
   "mimetype": "text/x-python",
   "name": "python",
   "nbconvert_exporter": "python",
   "pygments_lexer": "ipython3",
   "version": "3.10.11"
  }
 },
 "nbformat": 4,
 "nbformat_minor": 2
}
