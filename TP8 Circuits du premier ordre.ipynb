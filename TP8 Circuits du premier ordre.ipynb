{
 "cells": [
  {
   "cell_type": "markdown",
   "metadata": {},
   "source": [
    "# Cahier de TP Antonin Riguet & Neil Perlerin\n",
    "---\n",
    "# TP8 Circuits du premier ordre"
   ]
  },
  {
   "cell_type": "code",
   "execution_count": 19,
   "metadata": {},
   "outputs": [],
   "source": [
    "import math\n",
    "import numpy as np"
   ]
  },
  {
   "cell_type": "markdown",
   "metadata": {},
   "source": [
    "### 1. Étude d'un circuit RC"
   ]
  },
  {
   "cell_type": "code",
   "execution_count": 34,
   "metadata": {},
   "outputs": [
    {
     "name": "stdout",
     "output_type": "stream",
     "text": [
      "τ = 22 microsecondes\n"
     ]
    }
   ],
   "source": [
    "R = 1 #kΩ\n",
    "C = 22 #nF\n",
    "τ = R * C #microsecondes\n",
    "\n",
    "print(f\"τ = {τ} microsecondes\")"
   ]
  },
  {
   "cell_type": "markdown",
   "metadata": {},
   "source": [
    "On prend une résistance de l'odre d'1kΩ et un condenstateur de l'odre de 22 nF pour espérer obtenir un ${\\tau} = RC$ de l'odre de 20 microsecondes."
   ]
  },
  {
   "cell_type": "markdown",
   "metadata": {},
   "source": [
    "Mesures de la tension au borne du condensateur :"
   ]
  },
  {
   "cell_type": "code",
   "execution_count": 35,
   "metadata": {},
   "outputs": [
    {
     "name": "stdout",
     "output_type": "stream",
     "text": [
      "Pour le τ de la charge, on a E = 0.87\n",
      "Pour le τ de la décharge, on a E = 0.58\n",
      "Dans les 2 cas, E < 2 et donc le protocole fonctionne\n"
     ]
    }
   ],
   "source": [
    "τ_charge_mesure = 23.2 #microsecondes\n",
    "incertitude_τ_charge = 2.4 / math.sqrt(3)\n",
    "\n",
    "τ_decharge_mesure = 22.8 #microsecondes\n",
    "incertitude_τ_decharge = 2.4 / math.sqrt(3)\n",
    "\n",
    "e_charge = abs(τ_charge_mesure - τ) / incertitude_τ_charge\n",
    "e_decharge = abs(τ_decharge_mesure - τ) / incertitude_τ_decharge\n",
    "\n",
    "print(f\"Pour le τ de la charge, on a E = {round(e_charge, 2)}\")\n",
    "print(f\"Pour le τ de la décharge, on a E = {round(e_decharge, 2)}\")\n",
    "print(\"Dans les 2 cas, E < 2 et donc le protocole fonctionne\")"
   ]
  },
  {
   "cell_type": "markdown",
   "metadata": {},
   "source": [
    "Mesures de la tension aux bornes de la résistance :"
   ]
  },
  {
   "cell_type": "code",
   "execution_count": 36,
   "metadata": {},
   "outputs": [
    {
     "name": "stdout",
     "output_type": "stream",
     "text": [
      "Pour le τ de la charge, on a E = 0.29\n",
      "Pour le τ de la décharge, on a E = 0.0\n",
      "Dans les 2 cas, E < 2 et donc le protocole fonctionne\n"
     ]
    }
   ],
   "source": [
    "τ_charge_mesure = 21.60 #microsecondes\n",
    "incertitude_τ_charge = 2.4 / math.sqrt(3)\n",
    "\n",
    "τ_decharge_mesure = 22 #microsecondes\n",
    "incertitude_τ_decharge = 2.4 / math.sqrt(3)\n",
    "\n",
    "e_charge = abs(τ_charge_mesure - τ) / incertitude_τ_charge\n",
    "e_decharge = abs(τ_decharge_mesure - τ) / incertitude_τ_decharge\n",
    "\n",
    "print(f\"Pour le τ de la charge, on a E = {round(e_charge, 2)}\")\n",
    "print(f\"Pour le τ de la décharge, on a E = {round(e_decharge, 2)}\")\n",
    "print(\"Dans les 2 cas, E < 2 et donc le protocole fonctionne\")"
   ]
  },
  {
   "cell_type": "markdown",
   "metadata": {},
   "source": [
    "### 2. Étude d'un circuit RL"
   ]
  },
  {
   "cell_type": "code",
   "execution_count": 37,
   "metadata": {},
   "outputs": [
    {
     "name": "stdout",
     "output_type": "stream",
     "text": [
      "τ = 4.68 microsecondes\n"
     ]
    }
   ],
   "source": [
    "L = 2200 #microHenry\n",
    "R = 470 #Ω\n",
    "τ = L / R\n",
    "\n",
    "print(f\"τ = {round(τ, 2)} microsecondes\") "
   ]
  },
  {
   "cell_type": "code",
   "execution_count": 44,
   "metadata": {},
   "outputs": [
    {
     "name": "stdout",
     "output_type": "stream",
     "text": [
      "Pour la mesure de τ, on a E = 0.91\n",
      "E < 2 et donc le protocole fonctionne\n"
     ]
    }
   ],
   "source": [
    "τ_mesure = 5.1 #microsecondes\n",
    "incertitude_τ = 0.8 / math.sqrt(3)\n",
    "\n",
    "e_charge = abs(τ_mesure - τ) / incertitude_τ\n",
    "\n",
    "print(f\"Pour la mesure de τ, on a E = {round(e_charge, 2)}\")\n",
    "print(\"E < 2 et donc le protocole fonctionne\")"
   ]
  }
 ],
 "metadata": {
  "kernelspec": {
   "display_name": "Python 3",
   "language": "python",
   "name": "python3"
  },
  "language_info": {
   "codemirror_mode": {
    "name": "ipython",
    "version": 3
   },
   "file_extension": ".py",
   "mimetype": "text/x-python",
   "name": "python",
   "nbconvert_exporter": "python",
   "pygments_lexer": "ipython3",
   "version": "3.10.11"
  }
 },
 "nbformat": 4,
 "nbformat_minor": 2
}
