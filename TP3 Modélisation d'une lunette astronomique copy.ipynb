{
 "cells": [
  {
   "cell_type": "markdown",
   "metadata": {},
   "source": [
    "# Cahier de TP Antonin Riguet & Neil Perlerin\n",
    "---\n",
    "# TP3 Modélisation d'une lunette astonomique "
   ]
  },
  {
   "cell_type": "code",
   "execution_count": 4,
   "metadata": {},
   "outputs": [],
   "source": [
    "import numpy as np\n",
    "import matplotlib.pyplot as plt\n",
    "import math"
   ]
  },
  {
   "cell_type": "markdown",
   "metadata": {},
   "source": [
    "### 1. Vérification des distances focales des lentilles"
   ]
  },
  {
   "cell_type": "markdown",
   "metadata": {},
   "source": [
    "On mesure la distance focale des lentilles grâce à la méthode de l'autocolimation (TP2) :\n",
    "\n",
    "- Lentille 1 : 10 cm de distance focale \n",
    "- Lentille 2 : 20 cm de distance focale"
   ]
  },
  {
   "cell_type": "markdown",
   "metadata": {},
   "source": [
    "### 2. Résalisation d'un objet à l'infini"
   ]
  },
  {
   "cell_type": "markdown",
   "metadata": {},
   "source": [
    "On place l'objet sur la distance focale de la lentille grâce à la méthode de l'autocolimation (TP2). On a alors une image à l'infini"
   ]
  },
  {
   "cell_type": "markdown",
   "metadata": {},
   "source": [
    "### 3. Réalisation expérimentale d'un oeil"
   ]
  },
  {
   "cell_type": "markdown",
   "metadata": {},
   "source": [
    "- On place une seconde lentille assez loin de la première lentille, puis un écran sur le foyer image de cette seconde lentille.\n",
    "- Cette disposition nous permet d'avoir un modèle de l'oeil"
   ]
  },
  {
   "cell_type": "code",
   "execution_count": 5,
   "metadata": {},
   "outputs": [],
   "source": [
    "valeurs_mesurées = [15, 14.5, 15, 15]\n",
    "valeurs_de_alpha = [0.075, 0.0725, 0.075, 0.075]\n",
    "moyenne_valeurs_alpha = sum(valeurs_de_alpha) / len(valeurs_de_alpha)"
   ]
  },
  {
   "cell_type": "code",
   "execution_count": 6,
   "metadata": {},
   "outputs": [
    {
     "name": "stdout",
     "output_type": "stream",
     "text": [
      "0.0725\n"
     ]
    }
   ],
   "source": [
    "def calculer_alpha(taille_image) : \n",
    "    return taille_image / 200\n",
    "\n",
    "print(calculer_alpha(14.5))"
   ]
  },
  {
   "cell_type": "code",
   "execution_count": 7,
   "metadata": {},
   "outputs": [
    {
     "name": "stdout",
     "output_type": "stream",
     "text": [
      "0.0050000000000000044\n",
      "On a alpha à peu près égal à 0.074\n"
     ]
    }
   ],
   "source": [
    "print(f\"On a alpha à peu près égal à {round(moyenne_valeurs_alpha, 3)}\")"
   ]
  },
  {
   "cell_type": "markdown",
   "metadata": {},
   "source": [
    "### 4. Etude d'une lunette astronomique"
   ]
  },
  {
   "cell_type": "markdown",
   "metadata": {},
   "source": [
    "Protocol expérimental :\n",
    "\n",
    "- On part de la poision du modèle de l'oeil, avec deux lentilles de distance focale de 200mm en laissant au moins 600mm de distance entre les deux\n",
    "- On rajoute entre les deux lentilles une lentille avec une distance focale de 300mm d'abord, puis une lentille avec une distance focale moins grande\n",
    "- On positionne les deux nouvelles lentilles entre les deux anciennes lentilles, avec une distance de la somme des distance focales entre les deux (ici 400mm)\n",
    "- On mesure la taille de la nouvelle image formée sur l'écran pour trouver alpha prime, que l'on compare avec aplha pour trouver le grossisement"
   ]
  },
  {
   "cell_type": "code",
   "execution_count": 8,
   "metadata": {},
   "outputs": [],
   "source": [
    "valeurs_mesurées = [43, 42, 44, 42]\n",
    "valeurs_du_grossissement = [2.89, 2.82, 2.95, 2.82]\n",
    "moyenne_valeurs_mesurées = sum(valeurs_du_grossissement) / len(valeurs_du_grossissement)"
   ]
  },
  {
   "cell_type": "code",
   "execution_count": 9,
   "metadata": {},
   "outputs": [
    {
     "name": "stdout",
     "output_type": "stream",
     "text": [
      "2.823529411764706\n"
     ]
    }
   ],
   "source": [
    "def calculer_grossissement(taille_image) :\n",
    "    alphap = taille_image / 200\n",
    "    return alphap / moyenne_valeurs_alpha\n",
    "\n",
    "print(calculer_grossissement(42))"
   ]
  },
  {
   "cell_type": "code",
   "execution_count": 10,
   "metadata": {},
   "outputs": [
    {
     "name": "stdout",
     "output_type": "stream",
     "text": [
      "0.2301095209783996\n"
     ]
    }
   ],
   "source": [
    "valeur_constructeur = 3 # Valeur constructeur du grossissement\n",
    "incertitude_constructeur = 0.1\n",
    "incertitude_valeurs = np.std(valeurs_mesurées, ddof = 1) / np.sqrt(len(valeurs_mesurées))\n",
    "E = abs(moyenne_valeurs_mesurées - valeur_constructeur) / np.sqrt((incertitude_valeurs ** 2) + ((incertitude_constructeur * valeur_constructeur) ** 2))\n",
    "\n",
    "print(E)"
   ]
  },
  {
   "cell_type": "markdown",
   "metadata": {},
   "source": [
    "E < 2 donc le protocol semble bon."
   ]
  },
  {
   "cell_type": "markdown",
   "metadata": {},
   "source": [
    "### 5. Notion de cercle oculaire"
   ]
  },
  {
   "cell_type": "markdown",
   "metadata": {},
   "source": [
    "Protocole expérimental : \n",
    "\n",
    "- On place sur la bande optique dans cet ordre une lumière et une lentille convergente à sa distance focale de la lumière pour avoir un objet à l'infini\n",
    "- On place ensuite plus loin deux lentilles convergentes avec la lentille à la distance focale la plus grande en premier afin d'obtenir un grandissement\n",
    "- On ajuste ces deux lentilles pour que le point focal image de la première et le point focal objet de la seconde se rencontrent (lunette astonomique)\n",
    "- On ajuste la position de l'écran après la deuxième lentille jusqu'à ce que l'image de l'objectif soit nette\n",
    "- On calcule ensuite le rapport entre le diamètre réel de l'objectif et le diamètre de son image pour obtenir le grandissement (Théorème de thalès. Voir Schéma.)"
   ]
  },
  {
   "cell_type": "markdown",
   "metadata": {},
   "source": [
    "<img src = Images/Image4.jpg alt=\"Schéma Image 4\" width=50%/>"
   ]
  },
  {
   "cell_type": "code",
   "execution_count": 11,
   "metadata": {},
   "outputs": [],
   "source": [
    "diamètres_mesurés = [12, 12, 12.5, 12.5]\n",
    "valeurs_du_grossissement = [3.16, 3.16, 3.04, 3.04]\n",
    "moyenne_valeurs_mesurées = sum(valeurs_du_grossissement) / len(valeurs_du_grossissement)"
   ]
  },
  {
   "cell_type": "code",
   "execution_count": 12,
   "metadata": {},
   "outputs": [
    {
     "name": "stdout",
     "output_type": "stream",
     "text": [
      "3.04\n"
     ]
    }
   ],
   "source": [
    "def calculer_grossissement_cercle_oculaire(diametre) :\n",
    "    return 38 / diametre\n",
    "\n",
    "print(calculer_grossissement_cercle_oculaire(12.5))"
   ]
  },
  {
   "cell_type": "code",
   "execution_count": 13,
   "metadata": {},
   "outputs": [
    {
     "name": "stdout",
     "output_type": "stream",
     "text": [
      "0.17700732382953768\n"
     ]
    }
   ],
   "source": [
    "valeur_constructeur = 3 # Valeur constructeur du grossissement\n",
    "incertitude_constructeur = 0.1\n",
    "incertitude_valeurs = np.std(valeurs_mesurées, ddof = 1) / np.sqrt(len(valeurs_mesurées))\n",
    "E = abs(moyenne_valeurs_mesurées - valeur_constructeur) / np.sqrt((incertitude_valeurs ** 2) + ((incertitude_constructeur * valeur_constructeur) ** 2))\n",
    "\n",
    "print(E)"
   ]
  },
  {
   "cell_type": "markdown",
   "metadata": {},
   "source": [
    "E < 2 donc la méthode marche."
   ]
  }
 ],
 "metadata": {
  "kernelspec": {
   "display_name": "Python 3",
   "language": "python",
   "name": "python3"
  },
  "language_info": {
   "codemirror_mode": {
    "name": "ipython",
    "version": 3
   },
   "file_extension": ".py",
   "mimetype": "text/x-python",
   "name": "python",
   "nbconvert_exporter": "python",
   "pygments_lexer": "ipython3",
   "version": "3.11.0"
  }
 },
 "nbformat": 4,
 "nbformat_minor": 2
}
