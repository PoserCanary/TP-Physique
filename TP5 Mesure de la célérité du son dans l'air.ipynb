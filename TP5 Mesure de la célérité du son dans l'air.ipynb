{
 "cells": [
  {
   "cell_type": "markdown",
   "metadata": {},
   "source": [
    "# Cahier de TP Antonin Riguet & Neil Perlerin\n",
    "---\n",
    "# TP5 Mesure de la célérite du son dans l'air"
   ]
  },
  {
   "cell_type": "code",
   "execution_count": 2,
   "metadata": {},
   "outputs": [],
   "source": [
    "import math\n",
    "import numpy as np"
   ]
  },
  {
   "cell_type": "markdown",
   "metadata": {},
   "source": [
    "### 1. Période temporelle $T$ et fréquence $f$ d'une onde ultrasonore"
   ]
  },
  {
   "cell_type": "code",
   "execution_count": 6,
   "metadata": {},
   "outputs": [
    {
     "name": "stdout",
     "output_type": "stream",
     "text": [
      "T = 25.0 ± 0.0144\n",
      "f = 40.0 ± 0.0048 KHz\n",
      "E = 0.0 < 2 donc le protocol est bon\n"
     ]
    }
   ],
   "source": [
    "# Incertitude type B\n",
    "\n",
    "periode = 200 / 8\n",
    "precision = 0.2 / 8\n",
    "\n",
    "incertitude_periode = precision / math.sqrt(3)\n",
    "print(f\"T = {periode} ± {round(incertitude_periode, 4)}\")\n",
    "\n",
    "frequence = 1 / periode * 1000\n",
    "incertitude_frequence = math.sqrt(incertitude_periode / periode ** 2)\n",
    "print(f\"f = {frequence} ± {round(incertitude_frequence, 4)} KHz\")\n",
    "\n",
    "e = abs(frequence - 40) / incertitude_frequence\n",
    "print(f\"E = {e} < 2 donc le protocol est bon\")"
   ]
  },
  {
   "cell_type": "markdown",
   "metadata": {},
   "source": [
    "### 2. Longeur d'onde $\\lambda$ d'une onde ultrasonore"
   ]
  },
  {
   "cell_type": "code",
   "execution_count": 7,
   "metadata": {},
   "outputs": [
    {
     "name": "stdout",
     "output_type": "stream",
     "text": [
      "λ = 8.7 ± 0.2887\n"
     ]
    }
   ],
   "source": [
    "# Incertitude type B\n",
    "\n",
    "longueur = 87 / 10\n",
    "precision = 0.5\n",
    "\n",
    "incertitude_longueur = precision / math.sqrt(3)\n",
    "print(f\"λ = {round(longueur, 2)} ± {round(incertitude_longueur, 4)}\")"
   ]
  },
  {
   "cell_type": "markdown",
   "metadata": {},
   "source": [
    "### 3. Mesure de la célécité $C_{son}$ des ondes sonores dans l'air"
   ]
  },
  {
   "cell_type": "code",
   "execution_count": 10,
   "metadata": {},
   "outputs": [
    {
     "name": "stdout",
     "output_type": "stream",
     "text": [
      "c = 348.0 ± 11.5471 m/s\n",
      "E = 0.69 < 2 donc le protocol est bon\n",
      "\n",
      "Newton : 291.33 m/s\n",
      "Laplace : 344.71 m/s\n",
      "\n",
      "En = 4.91 \n",
      "El = 0.29\n"
     ]
    }
   ],
   "source": [
    "# Incertitude type B\n",
    "\n",
    "celerite = longueur * frequence\n",
    "incertitude = celerite * math.sqrt((incertitude_longueur / longueur) ** 2 + (incertitude_frequence / frequence) ** 2)\n",
    "\n",
    "print(f\"c = {celerite} ± {round(incertitude, 4)} m/s\")\n",
    "\n",
    "e = abs(celerite - 340) / incertitude\n",
    "print(f\"E = {round(e, 2)} < 2 donc le protocol est bon\\n\")\n",
    "\n",
    "temperature = 22.9 + 273.15\n",
    "gaz = 8.314\n",
    "masse_air = 29 * 1 / 1000\n",
    "\n",
    "newton = math.sqrt(temperature * gaz / masse_air)\n",
    "laplace = math.sqrt(1.4 * temperature * gaz / masse_air)\n",
    "print(f\"Newton : {round(newton, 2)} m/s\\nLaplace : {round(laplace, 2)} m/s\\n\")\n",
    "\n",
    "ecart_newton = abs(celerite - newton) / incertitude\n",
    "ecart_laplace = abs(celerite - laplace) / incertitude\n",
    "print(f\"Écart Newton = {round(ecart_newton, 2)} \\nÉcart Laplace = {round(ecart_laplace, 2)}\")"
   ]
  },
  {
   "cell_type": "markdown",
   "metadata": {},
   "source": [
    "Conclusion : L'écart obtenu avec la fomule de Laplace et le seule des deux à être en dessous de 2. C'est donc la formule supérieure (pour ce cas d'utilisation)."
   ]
  }
 ],
 "metadata": {
  "kernelspec": {
   "display_name": "Python 3",
   "language": "python",
   "name": "python3"
  },
  "language_info": {
   "codemirror_mode": {
    "name": "ipython",
    "version": 3
   },
   "file_extension": ".py",
   "mimetype": "text/x-python",
   "name": "python",
   "nbconvert_exporter": "python",
   "pygments_lexer": "ipython3",
   "version": "3.10.11"
  }
 },
 "nbformat": 4,
 "nbformat_minor": 2
}
