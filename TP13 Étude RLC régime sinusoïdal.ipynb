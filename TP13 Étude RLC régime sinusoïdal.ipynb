{
 "cells": [
  {
   "cell_type": "markdown",
   "metadata": {},
   "source": [
    "# Cahier de TP Antonin Riguet & Neil Perlerin\n",
    "---\n",
    "# TP13 Étude RLC régime sinusoïdal"
   ]
  },
  {
   "cell_type": "code",
   "execution_count": 4,
   "metadata": {},
   "outputs": [],
   "source": [
    "from math import *\n",
    "import numpy as np\n",
    "import matplotlib.pyplot as plt"
   ]
  },
  {
   "cell_type": "markdown",
   "metadata": {},
   "source": [
    "### 1. Choix des composants du circuit RLC"
   ]
  },
  {
   "cell_type": "code",
   "execution_count": 18,
   "metadata": {},
   "outputs": [
    {
     "name": "stdout",
     "output_type": "stream",
     "text": [
      "Pour un fréquence de 3500.0 Hz, il nous faut un condensateur de 4.4e-07 F\n"
     ]
    }
   ],
   "source": [
    "f = 3.5e3\n",
    "L = 4.7e-3\n",
    "print(f\"Pour un fréquence de {f} Hz, il nous faut un condensateur de {round(1 / ((f ** 2) * L * 4 * (pi ** 2)), 10)} F\")"
   ]
  },
  {
   "cell_type": "markdown",
   "metadata": {},
   "source": [
    "### 2. Mesures aux bornes de la résistance"
   ]
  },
  {
   "cell_type": "markdown",
   "metadata": {},
   "source": [
    "#### Méthode 1 : Faire varier la fréquence du générateur et mesurer quand l'amplitude est maximum"
   ]
  },
  {
   "cell_type": "code",
   "execution_count": 27,
   "metadata": {},
   "outputs": [
    {
     "name": "stdout",
     "output_type": "stream",
     "text": [
      "f_mes = 2800.0 ± 346.41\n",
      "E = 2.021 ≈ 2\n"
     ]
    }
   ],
   "source": [
    "C = 4.4e-7 #F\n",
    "\n",
    "f_th = 3.5e3 #Hz\n",
    "f_mes = 2.8e3 #Hz\n",
    "incertitude_f = 600 / sqrt(3)\n",
    "\n",
    "print(f\"f_mes = {round(f_mes, 3)} ± {round(incertitude_f, 3)}\")\n",
    "print(f\"E = {round(abs(f_th - f_mes) / incertitude_f, 3)} ≈ 2\")"
   ]
  },
  {
   "cell_type": "markdown",
   "metadata": {},
   "source": [
    "E est proche de 2 mais ne couvre pas totalement la valeur attendue."
   ]
  },
  {
   "cell_type": "markdown",
   "metadata": {},
   "source": [
    "#### Méthode 2 : Faire varier la fréquence du générateur sur le mode d'affichage X-Y jusqu'à ce que la droite de déphasage soit affine"
   ]
  },
  {
   "cell_type": "code",
   "execution_count": 36,
   "metadata": {},
   "outputs": [
    {
     "name": "stdout",
     "output_type": "stream",
     "text": [
      "f_mes = 3460.0 ± 17.321\n",
      "E = 2.309 ≈ 2\n"
     ]
    }
   ],
   "source": [
    "f_mes = 3.46e3 #Hz\n",
    "incertitude_f = 30 / sqrt(3)\n",
    "\n",
    "print(f\"f_mes = {round(f_mes, 3)} ± {round(incertitude_f, 3)}\")\n",
    "print(f\"E = {round(abs(f_th - f_mes) / incertitude_f, 3)} ≈ 2\")"
   ]
  },
  {
   "cell_type": "markdown",
   "metadata": {},
   "source": [
    "Encore une fois le E est légèrement supérieur à mais proche de 2, même avec cette méthode à la précision plus élevée. On peut suspecter une défaillance légère dans le matériel qui causerait cette divergence."
   ]
  },
  {
   "cell_type": "code",
   "execution_count": 49,
   "metadata": {},
   "outputs": [
    {
     "name": "stdout",
     "output_type": "stream",
     "text": [
      "Q expérimental = 2.489\n"
     ]
    }
   ],
   "source": [
    "R = 10 #ohm\n",
    "\n",
    "Urmax = 0.416 #V\n",
    "fc1 = 2.84e3 #Hz\n",
    "fc2 = 4.23e3 #Hz\n",
    "incertitude_fc = 40 / sqrt(3)\n",
    "\n",
    "Q = f_mes / abs(fc1 - fc2)\n",
    "print(f\"Q expérimental = {round(Q, 3)}\")"
   ]
  },
  {
   "cell_type": "code",
   "execution_count": null,
   "metadata": {},
   "outputs": [],
   "source": [
    "incertitude_Q = sqrt((incertitude_fc ** 2) + (incertitude_fc ** 2))"
   ]
  }
 ],
 "metadata": {
  "kernelspec": {
   "display_name": "Python 3",
   "language": "python",
   "name": "python3"
  },
  "language_info": {
   "codemirror_mode": {
    "name": "ipython",
    "version": 3
   },
   "file_extension": ".py",
   "mimetype": "text/x-python",
   "name": "python",
   "nbconvert_exporter": "python",
   "pygments_lexer": "ipython3",
   "version": "3.10.11"
  }
 },
 "nbformat": 4,
 "nbformat_minor": 2
}
