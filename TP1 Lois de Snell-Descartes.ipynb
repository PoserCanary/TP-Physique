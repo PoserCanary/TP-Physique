{
 "cells": [
  {
   "cell_type": "markdown",
   "metadata": {},
   "source": [
    "# Cahier de TP Antonin Riguet & Neil Perlerin"
   ]
  },
  {
   "cell_type": "markdown",
   "metadata": {},
   "source": [
    "# TP 1 : Lois de Snell-Descartes"
   ]
  },
  {
   "cell_type": "code",
   "execution_count": 1,
   "metadata": {},
   "outputs": [],
   "source": [
    "import numpy as np\n",
    "import matplotlib.pyplot as plt"
   ]
  },
  {
   "cell_type": "markdown",
   "metadata": {},
   "source": [
    "## 1.1 Mesure de l'indice optique du plexiglas"
   ]
  },
  {
   "cell_type": "markdown",
   "metadata": {},
   "source": [
    "### 1. Expérience"
   ]
  },
  {
   "cell_type": "markdown",
   "metadata": {},
   "source": [
    "Schéma de l'éxpérience + protocole :\n",
    "\n",
    "- On positionne le laser, la lentille et le milieu à mesurer en ligne droite\n",
    "- On s'assure que le laser fait contact avec le milieu au centre du demi-cercle\n",
    "- On choisit un angle d'incidence non nul\n",
    "- On mesure l'angle d'incidence et l'angle refracté\n",
    "- On utilise la loi de Snell-Descartes pour trouver l'indice de réfraction du plexiglas"
   ]
  },
  {
   "cell_type": "markdown",
   "metadata": {},
   "source": [
    "<img src=\"https://media.discordapp.net/attachments/774332822319267911/1154135944723710032/20230913_170440.jpg?width=1440&height=616\" alt=\"Schéma de l'expérience 1\" width=50%/>"
   ]
  },
  {
   "cell_type": "markdown",
   "metadata": {},
   "source": [
    "### 2. Traitement de données"
   ]
  },
  {
   "cell_type": "code",
   "execution_count": 2,
   "metadata": {},
   "outputs": [
    {
     "name": "stdout",
     "output_type": "stream",
     "text": [
      "1.5095108861398956\n"
     ]
    }
   ],
   "source": [
    "def calculer_indice(i1, i2) : # Fonction pour calculer la donnée désirée d'après les deux angles\n",
    "    return np.sin(np.radians(i1))/np.sin(np.radians(i2))\n",
    "\n",
    "print(calculer_indice(70, 38.5))"
   ]
  },
  {
   "cell_type": "code",
   "execution_count": 3,
   "metadata": {},
   "outputs": [
    {
     "name": "stdout",
     "output_type": "stream",
     "text": [
      "n= 1.506e+00 +/- 1.3e-02 unité\n"
     ]
    }
   ],
   "source": [
    "n = np.array([1.50, 1.46, 1.54, 1.52, 1.51]) # Ensemble des données\n",
    "\n",
    "nmoy = np.mean(n) # Moyenne\n",
    "u_n = np.std(n, ddof = 1) / np.sqrt(len(n)) # Incertitude\n",
    "\n",
    "print(f'n= {nmoy:.3e} +/- {u_n:.1e} unité')"
   ]
  },
  {
   "cell_type": "markdown",
   "metadata": {},
   "source": [
    "### 3. Conclusions"
   ]
  },
  {
   "cell_type": "markdown",
   "metadata": {},
   "source": [
    "Valeur tabulée = 1.51"
   ]
  },
  {
   "cell_type": "code",
   "execution_count": 4,
   "metadata": {},
   "outputs": [
    {
     "name": "stdout",
     "output_type": "stream",
     "text": [
      "E = 0.3015113445777804\n"
     ]
    }
   ],
   "source": [
    "E = abs(nmoy - 1.51)/np.sqrt(u_n**2 + 0)\n",
    "print(f'E = {E}')"
   ]
  },
  {
   "cell_type": "markdown",
   "metadata": {},
   "source": [
    "On a E<2 donc la valeur mesurée est en accord avec la valeur tabulée"
   ]
  },
  {
   "cell_type": "markdown",
   "metadata": {},
   "source": [
    "## 1.3 Phénomène de réflexion totale"
   ]
  },
  {
   "cell_type": "markdown",
   "metadata": {},
   "source": [
    "### 1. Expérience"
   ]
  },
  {
   "cell_type": "markdown",
   "metadata": {},
   "source": [
    "Schéma de l'éxpérience + protocole :\n",
    "\n",
    "- On positionne le laser, la lentille et le milieu à mesurer en ligne droite\n",
    "- On s'assure que le laser fait contact avec le milieu au centre du demi-cercle, en passant d'abord par la partie arrondie du demi-cercle\n",
    "- On fait tourner le disque jusqu'à ce que la réfraction se transforme en réflexion totale\n",
    "- On mesure l'angle donné sur le disque"
   ]
  },
  {
   "cell_type": "markdown",
   "metadata": {},
   "source": [
    "<img src=\"https://media.discordapp.net/attachments/774332822319267911/1154133075983351890/20230913_174451.jpg?width=1279&height=676\" alt=\"Schéma de l'expérience 1\" width=50%/>"
   ]
  },
  {
   "cell_type": "markdown",
   "metadata": {},
   "source": [
    "### 2. Traitement de données"
   ]
  },
  {
   "cell_type": "code",
   "execution_count": 5,
   "metadata": {
    "scrolled": true
   },
   "outputs": [
    {
     "name": "stdout",
     "output_type": "stream",
     "text": [
      "1.53195719593191\n"
     ]
    }
   ],
   "source": [
    "def calculer_indice(il) : # Fonction pour calculer la donnée désirée d'après l'angle\n",
    "    return 1 / np.sin(np.radians(il))\n",
    "\n",
    "print(calculer_indice(40.75))"
   ]
  },
  {
   "cell_type": "code",
   "execution_count": 6,
   "metadata": {},
   "outputs": [
    {
     "name": "stdout",
     "output_type": "stream",
     "text": [
      "n= 1.497e+00 +/- 8.4e-03 unité\n"
     ]
    }
   ],
   "source": [
    "n = np.array([1.47, 1.48, 1.52, 1.49, 1.50, 1.52]) # Ensemble des données\n",
    "\n",
    "nmoy = np.mean(n) # Moyenne\n",
    "u_n = np.std(n, ddof = 1) / np.sqrt(len(n)) # Incertitude\n",
    "\n",
    "print(f'n= {nmoy:.3e} +/- {u_n:.1e} unité')"
   ]
  },
  {
   "cell_type": "markdown",
   "metadata": {},
   "source": [
    "### 3. Conclusions"
   ]
  },
  {
   "cell_type": "markdown",
   "metadata": {},
   "source": [
    "Valeur tabulée = 1.51"
   ]
  },
  {
   "cell_type": "code",
   "execution_count": 7,
   "metadata": {},
   "outputs": [
    {
     "name": "stdout",
     "output_type": "stream",
     "text": [
      "E = 1.5811388300841718\n"
     ]
    }
   ],
   "source": [
    "E = abs(nmoy - 1.51)/np.sqrt(u_n**2 + 0)\n",
    "print(f'E = {E}')"
   ]
  },
  {
   "cell_type": "markdown",
   "metadata": {},
   "source": [
    "On a E<2 donc la valeur mesurée est en accord avec la valeur tabulée"
   ]
  },
  {
   "cell_type": "markdown",
   "metadata": {},
   "source": [
    "## 1.2 Vérification des lois de Snell-Descartes"
   ]
  },
  {
   "cell_type": "markdown",
   "metadata": {},
   "source": [
    "### 1. Expérience"
   ]
  },
  {
   "cell_type": "markdown",
   "metadata": {},
   "source": [
    "Schéma de l'éxpérience + protocole :\n",
    "\n",
    "- On choisit 6 valeurs d'un angle i1, sur lesquelles on va chacune effectuer 6 mesures\n",
    "- On positionne le laser, la lentille et le milieu à mesurer en ligne droite\n",
    "- On s'assure que le laser fait contact avec le milieu au centre du demi-cercle, en passant d'abord par la partie arrondie du demi-cercle\n",
    "- On positionne le disque pour que le rayon pénètre la partie plate du demi-cercle à l'angle choisi\n",
    "- On note la valeur de l'angle que forme le laser réfracté avec le dioptre"
   ]
  },
  {
   "cell_type": "markdown",
   "metadata": {},
   "source": [
    "<h1 style=\"color: Red; font-size: 120px; font-weight:bold\">ANTONIN ICI LE SCHÉMA !!!</h1>"
   ]
  },
  {
   "cell_type": "markdown",
   "metadata": {},
   "source": [
    "### 2. Traitement de données"
   ]
  },
  {
   "cell_type": "code",
   "execution_count": 8,
   "metadata": {},
   "outputs": [
    {
     "name": "stdout",
     "output_type": "stream",
     "text": [
      "n= 3.458e+01 +/- 2.4e-01 unité\n"
     ]
    }
   ],
   "source": [
    "n = np.array([35.5, 34.5, 35, 34.5, 34, 34]) # Ensemble des valeurs de i2\n",
    "\n",
    "nmoy = np.mean(n) # Moyenne\n",
    "u_n = np.std(n, ddof = 1) / np.sqrt(len(n)) # Incertitude\n",
    "\n",
    "print(f'n= {nmoy:.3e} +/- {u_n:.1e} unité')"
   ]
  },
  {
   "cell_type": "code",
   "execution_count": 9,
   "metadata": {},
   "outputs": [],
   "source": [
    "y = np.array([10, 20, 30, 40, 50, 60]) \n",
    "y = np.sin(y * np.pi / 180)\n",
    "\n",
    "u_y = 0\n",
    "\n",
    "x = np.array([7.25, 13.21, 20, 25.33, 30.50, 34.58])\n",
    "x = np.sin(x * np.pi / 180)\n",
    "\n",
    "u_x = np.array([0.30, 0.25, 0.30, 0.23, 0.20, 0.26])# Incertitudes des angles\n",
    "u_x = u_x*np.pi/180*np.cos(x * np.pi / 180)# Incertitudes des sinus"
   ]
  },
  {
   "cell_type": "code",
   "execution_count": 10,
   "metadata": {},
   "outputs": [
    {
     "data": {
      "image/png": "[encoded data removed]",
      "text/plain": [
       "<Figure size 800x600 with 1 Axes>"
      ]
     },
     "metadata": {},
     "output_type": "display_data"
    }
   ],
   "source": [
    "# Tracé des données avec les barres d'erreur\n",
    "plt.figure(figsize = (8, 6))\n",
    "plt.xlabel('x')\n",
    "plt.ylabel('y')\n",
    "\n",
    "plt.errorbar(x, y, xerr = u_x, yerr = u_y,fmt='b+', zorder = 2, label = 'Données')\n",
    "plt.legend()\n",
    "plt.show()"
   ]
  },
  {
   "cell_type": "code",
   "execution_count": 11,
   "metadata": {},
   "outputs": [
    {
     "data": {
      "image/png": "[encoded data removed]",
      "text/plain": [
       "<Figure size 800x600 with 1 Axes>"
      ]
     },
     "metadata": {},
     "output_type": "display_data"
    }
   ],
   "source": [
    "# Ajustement des données par une fonction affine\n",
    "p = np.polyfit(x, y, 1)\n",
    "a = p[0] # Pente de la droite d'ajustement\n",
    "b = p[1] # Ordonnée à l'origine de la droite d'ajustement\n",
    "\n",
    "# Tracé des données avec la droite d'ajustement\n",
    "plt.figure(figsize=(8, 6))\n",
    "plt.xlabel('x')\n",
    "plt.ylabel('y')\n",
    "\n",
    "xfit = np.linspace(min(x), max(x), 2)\n",
    "\n",
    "plt.plot(xfit, b + a * xfit, 'r', label = 'Régression linéaire')\n",
    "plt.errorbar(x, y, xerr = u_x, yerr = u_y, fmt='b+', zorder = 2, label = 'Données')\n",
    "plt.legend()\n",
    "plt.show()"
   ]
  },
  {
   "cell_type": "code",
   "execution_count": 12,
   "metadata": {},
   "outputs": [
    {
     "data": {
      "image/png": "[encoded data removed]",
      "text/plain": [
       "<Figure size 640x480 with 2 Axes>"
      ]
     },
     "metadata": {},
     "output_type": "display_data"
    }
   ],
   "source": [
    "# Vérification de la validité de la régression linéaire avec les résidus\n",
    "plt.subplot(211)\n",
    "res=(y-np.polyval(p, x))         # Résidus\n",
    "plt.plot(x, res, 'ro')           # Tracé des résidus\n",
    "plt.errorbar(x, res, yerr = u_x, fmt = 'r+', zorder = 2, label = 'Mesures')\n",
    "plt.grid(True)\n",
    "plt.ylabel('résidus')\n",
    "plt.xlabel('x')\n",
    "plt.subplot(212)\n",
    "z=(y-np.polyval(p, x)) / u_x     # Résidus normalisés\n",
    "plt.plot(x, z, 'ro')             # Tracé des résidus normalisés, |z| reste <2 donc la régression linéaire est validée\n",
    "plt.grid(True)\n",
    "plt.ylabel('résidus normalisés')\n",
    "plt.xlabel('x')\n",
    "plt.show()\n",
    "\n",
    "#1. sur les résidus : la valeur 0 est bien dans les barres d'erreurs -> ajustement validé\n",
    "#2. sur les résidus normalisés : z<2 pour tous les points -> ajustement validé"
   ]
  },
  {
   "cell_type": "code",
   "execution_count": 13,
   "metadata": {},
   "outputs": [
    {
     "name": "stdout",
     "output_type": "stream",
     "text": [
      "a= 1.556e+00 +/- 1.9e-02 unité et b=-2.190e-02 +/- 8.0e-03 unité\n"
     ]
    }
   ],
   "source": [
    "# Détermination des incertitudes sur les paramètres de modélisation par méthode Monte-Carlo\n",
    "N = 1000\n",
    "\n",
    "ta = [] # Liste qui contiendra les valeurs de pente\n",
    "tb = [] # Liste qui contiendra les valeurs d'ordonnée à l'origine\n",
    "\n",
    "\n",
    "for i in range(0,N):\n",
    "    l = len(x) \n",
    "    my = y + u_y * np.sqrt(3) * np.random.uniform(-1, 1, l) # Le sqrt(3) vient du fait qu'on prend une distribution uniforme sur la graduation de y / tirage de y\n",
    "    mx = x + u_x * np.sqrt(3) * np.random.uniform(-1, 1, l) # Le sqrt(3) vient du fait qu'on prend une distribution uniforme sur la graduation de x / tirage de x\n",
    "    p_MC = np.polyfit(mx, my, 1) # Ajustement après tirage aléatoire en chaque point\n",
    "    ta.append(p_MC[0]) \n",
    "    tb.append(p_MC[1])\n",
    "\n",
    "u_a = np.std(ta, ddof = 1) # Incertitude sur la pente\n",
    "u_b = np.std(tb, ddof = 1) # Incertitude sur l'ordonnée à l'origine\n",
    "\n",
    "print('a= {:.3e} +/- {:.1e} unité'.format(a,u_a),'et b={:.3e} +/- {:.1e} unité'.format(b,u_b))"
   ]
  },
  {
   "cell_type": "code",
   "execution_count": 14,
   "metadata": {},
   "outputs": [
    {
     "name": "stdout",
     "output_type": "stream",
     "text": [
      "A = 2.367846917026576, B = 2.732637750401472\n"
     ]
    }
   ],
   "source": [
    "print(f\"A = {abs(a - 1.51)/u_a}, B = {abs(b)/u_b}\") "
   ]
  },
  {
   "cell_type": "markdown",
   "metadata": {},
   "source": [
    "### Conclusion"
   ]
  },
  {
   "cell_type": "markdown",
   "metadata": {},
   "source": [
    "Le modèle marche approximativement, a et b sont proches de 2. (Sans doute à cause d'un défaut d'application des procédures expérimentales)"
   ]
  }
 ],
 "metadata": {
  "kernelspec": {
   "display_name": "Python 3",
   "language": "python",
   "name": "python3"
  },
  "language_info": {
   "codemirror_mode": {
    "name": "ipython",
    "version": 3
   },
   "file_extension": ".py",
   "mimetype": "text/x-python",
   "name": "python",
   "nbconvert_exporter": "python",
   "pygments_lexer": "ipython3",
   "version": "3.11.0"
  }
 },
 "nbformat": 4,
 "nbformat_minor": 4
}
