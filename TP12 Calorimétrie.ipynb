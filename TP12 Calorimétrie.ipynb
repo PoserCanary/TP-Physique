{
 "cells": [
  {
   "cell_type": "markdown",
   "metadata": {},
   "source": [
    "# Cahier de TP Antonin Riguet & Neil Perlerin\n",
    "---\n",
    "# TP12 Calorimétrie"
   ]
  },
  {
   "cell_type": "code",
   "execution_count": 1,
   "metadata": {},
   "outputs": [],
   "source": [
    "from math import *\n",
    "import numpy as np\n",
    "import random as rd\n",
    "import matplotlib.pyplot as plt"
   ]
  },
  {
   "cell_type": "markdown",
   "metadata": {},
   "source": [
    "### 1. Trouver la masse en eau d'un calorimètre"
   ]
  },
  {
   "cell_type": "markdown",
   "metadata": {},
   "source": [
    "sys : {calorimètre (1) + eau froide (2) + eau chaude (3)}\n",
    "\n",
    "1er principe (enthalpie) :\n",
    "\n",
    "$\\Delta H = \\Delta H_1 + \\Delta H_2 + \\Delta H_ 3 = 0 = W_{np} + Q\n",
    "\\\\ \\hspace{.5cm} \\Delta H_1 = C_1(T_{eq} - T_f) = C_e\\ \\eta (T_{eq} - T_f)\n",
    "\\\\ \\hspace{.5cm} \\Delta H_2 = C_2(T_{eq} - T_f) = C_e\\ m_f (T_{eq} - T_f)\n",
    "\\\\ \\hspace{.5cm} \\Delta H_3 = C_3(T_{eq} - T_c) = C_e\\ m_c (T_{eq} - T_c)$\n",
    "\n",
    "Au final, on a : \n",
    "\n",
    "$\\\\ \\hspace{.5cm} \\eta = - m_f - m_c \\frac{(T_{eq} - T_c)}{T_{eq} - T_f}$\n",
    "\n",
    "Avec $\\eta$ la masse en eau du calorimètre"
   ]
  },
  {
   "cell_type": "code",
   "execution_count": 2,
   "metadata": {},
   "outputs": [
    {
     "name": "stdout",
     "output_type": "stream",
     "text": [
      "η ≈ 29.78g\n"
     ]
    }
   ],
   "source": [
    "valeurs = [165.4, 175.6, 51.2 + 273.15, 19 + 273.15, 36 + 273.1]\n",
    "\n",
    "def η(valeurs) :\n",
    "    m_f, m_c, T_f, T_c, T_eq = valeurs\n",
    "    return - m_f - m_c * ((T_eq - T_c) / (T_eq - T_f))\n",
    "\n",
    "print(f\"η ≈ {round(η(valeurs), 2)}g\")"
   ]
  },
  {
   "cell_type": "markdown",
   "metadata": {},
   "source": [
    "Avec la méthode Monte-Carlo, on multiplie fait la moyenne d'un millier de masses théoriques en eau, où l'incertitude multipliée par une variable aléatoire uniforme entre -1 et 1 est ajoutée à la valeur initialement mesurée."
   ]
  },
  {
   "cell_type": "code",
   "execution_count": 3,
   "metadata": {},
   "outputs": [
    {
     "name": "stdout",
     "output_type": "stream",
     "text": [
      "Avec la méthode monte-carlo, on a η = 29.78 ± 1.75 g\n"
     ]
    }
   ],
   "source": [
    "masses_eau = [η([valeur + 0.1 * rd.uniform(-1, 1) for valeur in valeurs]) for _ in range(1000)]\n",
    "\n",
    "print(f\"Avec la méthode monte-carlo, on a η = {round(η(valeurs), 2)} ± {round(np.std(masses_eau), 2)} g\")"
   ]
  },
  {
   "cell_type": "markdown",
   "metadata": {},
   "source": [
    "### 2. Trouver la capacité thermique massique d'un métal"
   ]
  },
  {
   "cell_type": "markdown",
   "metadata": {},
   "source": [
    "sys : {calorimètre (1) + eau (2) + métal (3)}\n",
    "\n",
    "1er principe (enthalpie) :\n",
    "\n",
    "$\\Delta H = \\Delta H_1 + \\Delta H_2 + \\Delta H_ 3 = 0 = W_{np} + Q\n",
    "\\\\ \\hspace{.5cm} \\Delta H_1 = C_e\\ \\eta (T_{eq} - T_f)\n",
    "\\\\ \\hspace{.5cm} \\Delta H_2 = C_e\\ m_e (T_{eq} - T_f)\n",
    "\\\\ \\hspace{.5cm} \\Delta H_3 = C_m m_m(T_{eq} - T_m)$\n",
    "\n",
    "Au final, on a : \n",
    "\n",
    "$\\\\ \\hspace{.5cm} C_m = \\frac{C_e(T_f - T_{eq})(\\eta + m_f)}{m_m (T_{eq} - T_m)}$\n",
    "\n",
    "Avec $C_m$ la capacité thermique massique du métal"
   ]
  },
  {
   "cell_type": "code",
   "execution_count": 4,
   "metadata": {},
   "outputs": [],
   "source": [
    "C_e = 4.18e3\n",
    "η = 29.78\n",
    "\n",
    "valeurs_fer = [159.8, 135, 24.4, 17.6, 89]\n",
    "valeurs_aluminium = [159.8, 31.4, 26.7, 24.5, 88]\n",
    "valeurs_laiton = [177.9, 93.4, 22.3, 18.7, 93]\n",
    "\n",
    "def Cm(valeurs) :\n",
    "    m_f, m_m, T_eq, T_f, T_m = valeurs\n",
    "    return (C_e * (T_f - T_eq) * (η + m_f)) / (m_m * (T_eq - T_m))"
   ]
  },
  {
   "cell_type": "code",
   "execution_count": 6,
   "metadata": {},
   "outputs": [
    {
     "name": "stdout",
     "output_type": "stream",
     "text": [
      "La capacité thermique mesurée du fer vaut : 617.89 ± 7.85 J/kg*K\n",
      "La capacité thermique mesurée de l'aluminium vaut : 905.74 ± 34.38 J/kg*K\n",
      "La capacité thermique mesurée du laiton vaut : 473.27 ± 10.64 J/kg*K\n"
     ]
    }
   ],
   "source": [
    "incertitude_fer = np.std([Cm([valeur + 0.1 * rd.uniform(-1, 1) for valeur in valeurs_fer]) for _ in range(1000)])\n",
    "incertitude_aluminium = np.std([Cm([valeur + 0.1 * rd.uniform(-1, 1) for valeur in valeurs_aluminium]) for _ in range(1000)])\n",
    "incertitude_laiton = np.std([Cm([valeur + 0.1 * rd.uniform(-1, 1) for valeur in valeurs_laiton]) for _ in range(1000)])\n",
    "\n",
    "print(f\"La capacité thermique mesurée du fer vaut : {round(Cm(valeurs_fer), 2)} ± {round(incertitude_fer, 2)} J/kg*K\")\n",
    "print(f\"La capacité thermique mesurée de l'aluminium vaut : {round(Cm(valeurs_aluminium), 2)} ± {round(incertitude_aluminium, 2)} J/kg*K\")\n",
    "print(f\"La capacité thermique mesurée du laiton vaut : {round(Cm(valeurs_laiton), 2)} ± {round(incertitude_laiton, 2)} J/kg*K\")"
   ]
  },
  {
   "cell_type": "markdown",
   "metadata": {},
   "source": [
    "Les valeurs pour l'aluminium et le laiton sont en accord avec les valeurs \"constructeur\", contrairement à la valeur pour le fer, ce qui est sans doute du à une mesure erronée car l'incertitude semble correcte et la formule marche pour les deux autres métaux. "
   ]
  }
 ],
 "metadata": {
  "kernelspec": {
   "display_name": "Python 3",
   "language": "python",
   "name": "python3"
  },
  "language_info": {
   "codemirror_mode": {
    "name": "ipython",
    "version": 3
   },
   "file_extension": ".py",
   "mimetype": "text/x-python",
   "name": "python",
   "nbconvert_exporter": "python",
   "pygments_lexer": "ipython3",
   "version": "3.10.11"
  }
 },
 "nbformat": 4,
 "nbformat_minor": 2
}
