{
 "cells": [
  {
   "cell_type": "markdown",
   "metadata": {},
   "source": [
    "# Cahier de TP Antonin Riguet & Neil Perlerin\n",
    "---\n",
    "# TP13 Étude RLC régime sinusoïdal"
   ]
  },
  {
   "cell_type": "code",
   "execution_count": 2,
   "metadata": {},
   "outputs": [],
   "source": [
    "from math import *\n",
    "import numpy as np\n",
    "import matplotlib.pyplot as plt"
   ]
  },
  {
   "cell_type": "markdown",
   "metadata": {},
   "source": [
    "## 1. Mise en place d'un filtre du premier ordre"
   ]
  },
  {
   "cell_type": "markdown",
   "metadata": {},
   "source": [
    "Afin de séparer la composante continue du signal créneau, il nous faut une fréquence de coupure très inférieure devant celle du signal, sur un filtre passe bas.\n",
    "Le filtre passe-bas est obtenu en mesurant la tension aux bornes d'un condensateur sur un filtre RC série."
   ]
  },
  {
   "cell_type": "markdown",
   "metadata": {},
   "source": [
    "On peut mesurer expérimentalement la fréquence de coupure d'un circuit en jouant avec la fréquence d'un signal sinusoïdal d'un générateur jusqu'à ce que l'on mesure une fréquence qui vaut exactement 1/sqrt(2) fois l'amplitude orginelle."
   ]
  },
  {
   "cell_type": "markdown",
   "metadata": {},
   "source": [
    "Le filtre est à caractère intégrateur pour les hautes fréquences (comme tous les filtres passe-bas). Il réprésente l'aire sous la courbe de la fonction de tension d'entrée et se situe donc logiquement à la moyenne entre les créneaux hauts et les créneaux bas."
   ]
  },
  {
   "cell_type": "markdown",
   "metadata": {},
   "source": [
    "## 2. Filtre ADSL"
   ]
  },
  {
   "cell_type": "markdown",
   "metadata": {},
   "source": [
    "Le filtre étudié semble être un filtre passe-bas d'ordre 2 (Gain max supérieur à 0) avec une résonnace en f = 7.85KHz et des fréquences de coupure à 8.85 et 6.80 KHz respectivement. Ces résultats ont étés obtenus en faisant jouer la fréquence de la tension d'entrée et en observant celle de la tension de sortie en réponse."
   ]
  }
 ],
 "metadata": {
  "kernelspec": {
   "display_name": "Python 3",
   "language": "python",
   "name": "python3"
  },
  "language_info": {
   "codemirror_mode": {
    "name": "ipython",
    "version": 3
   },
   "file_extension": ".py",
   "mimetype": "text/x-python",
   "name": "python",
   "nbconvert_exporter": "python",
   "pygments_lexer": "ipython3",
   "version": "3.10.12"
  }
 },
 "nbformat": 4,
 "nbformat_minor": 2
}
